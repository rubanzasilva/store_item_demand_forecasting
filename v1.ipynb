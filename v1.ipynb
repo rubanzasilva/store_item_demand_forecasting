{
 "cells": [
  {
   "cell_type": "code",
   "execution_count": 1,
   "metadata": {},
   "outputs": [
    {
     "data": {
      "text/plain": [
       "<torch._C.Generator at 0x7f2ab01cb6d0>"
      ]
     },
     "execution_count": 1,
     "metadata": {},
     "output_type": "execute_result"
    }
   ],
   "source": [
    "import numpy as np\n",
    "from numpy import random\n",
    "#import fastbook\n",
    "#fastbook.setup_book()\n",
    "#from fastbook import *\n",
    "from fastai.tabular.all import *\n",
    "import pandas as pd\n",
    "#import matplotlib.pyplot as plt\n",
    "#from fastai.imports import *\n",
    "#np.set_printoptions(linewidth=130)\n",
    "from pathlib import Path\n",
    "import os\n",
    "import xgboost as xgb\n",
    "#from xgboost import plot_importance\n",
    "from xgboost import XGBRegressor\n",
    "import warnings\n",
    "import gc\n",
    "import pickle\n",
    "from joblib import dump, load\n",
    "import typing as t\n",
    "import bentoml\n",
    "from sklearn.metrics import mean_absolute_percentage_error\n",
    "from sklearn.model_selection import KFold, cross_val_score,train_test_split\n",
    "#import wandb\n",
    "\n",
    "\n",
    "torch.manual_seed(42)\n",
    "\n"
   ]
  },
  {
   "cell_type": "code",
   "execution_count": 3,
   "metadata": {},
   "outputs": [],
   "source": [
    "path = Path('data/')\n",
    "\n",
    "train_df = pd.read_csv(path/'train.csv')\n",
    "test_df = pd.read_csv(path/'test.csv')\n",
    "sub_df = pd.read_csv(path/'sample_submission.csv')"
   ]
  },
  {
   "cell_type": "code",
   "execution_count": 5,
   "metadata": {},
   "outputs": [
    {
     "name": "stdout",
     "output_type": "stream",
     "text": [
      "date     0\n",
      "store    0\n",
      "item     0\n",
      "sales    0\n",
      "dtype: int64\n"
     ]
    }
   ],
   "source": [
    "missing_values_count = train_df.isnull().sum()\n",
    "sorted_missing_values = missing_values_count.sort_values(ascending=False)\n",
    "print(sorted_missing_values)"
   ]
  },
  {
   "cell_type": "code",
   "execution_count": 6,
   "metadata": {},
   "outputs": [],
   "source": [
    "cont_names,cat_names = cont_cat_split(train_df, dep_var='sales')\n",
    "splits = RandomSplitter(valid_pct=0.2)(range_of(train_df))\n",
    "to = TabularPandas(train_df, procs=[Categorify, FillMissing,Normalize],\n",
    "#to = TabularPandas(train_df, procs=[Categorify,Normalize],\n",
    "                   cat_names = cat_names,\n",
    "                   cont_names = cont_names,\n",
    "                   y_names='sales',\n",
    "                   y_block=CategoryBlock(),\n",
    "                   splits=splits)"
   ]
  },
  {
   "cell_type": "code",
   "execution_count": null,
   "metadata": {},
   "outputs": [],
   "source": []
  },
  {
   "cell_type": "code",
   "execution_count": 7,
   "metadata": {},
   "outputs": [
    {
     "data": {
      "text/plain": [
       "Model(tag=\"store_forecast_v1:tfi3sahisc5qbjo7\", path=\"/home/rubanza/bentoml/models/store_forecast_v1/tfi3sahisc5qbjo7/\")"
      ]
     },
     "execution_count": 7,
     "metadata": {},
     "output_type": "execute_result"
    }
   ],
   "source": [
    "dls = to.dataloaders(bs=64)\n",
    "#dls = to.dataloaders(bs=1024)\n",
    "test_dl = dls.test_dl(test_df)\n",
    "\n",
    "X_train, y_train = to.train.xs, to.train.ys.values.ravel()\n",
    "X_test, y_test = to.valid.xs, to.valid.ys.values.ravel()\n",
    "\n",
    "xgb_model = xgb.XGBRegressor()\n",
    "xgb_model = xgb_model.fit(X_train, y_train)\n",
    "\n",
    "#xgb_preds = tensor(xgb_model.predict(test_dl.xs))\n",
    "\n",
    "#xgb_preds_x = tensor(xgb_model.predict(X_test))\n",
    "\n",
    "#xgb_score = mean_absolute_percentage_error(y_test,xgb_preds_x)\n",
    "#print(f\"Model accuracy: {xgb_score}\")\n",
    "\n",
    "bentoml.xgboost.save_model(\"store_forecast_v1\", xgb_model)"
   ]
  },
  {
   "cell_type": "code",
   "execution_count": null,
   "metadata": {},
   "outputs": [],
   "source": [
    "\n",
    "import numpy as np\n",
    "from numpy import random\n",
    "#import fastbook\n",
    "#fastbook.setup_book()\n",
    "#from fastbook import *\n",
    "from fastai.tabular.all import *\n",
    "import pandas as pd\n",
    "#import matplotlib.pyplot as plt\n",
    "#from fastai.imports import *\n",
    "#np.set_printoptions(linewidth=130)\n",
    "from pathlib import Path\n",
    "import os\n",
    "import xgboost as xgb\n",
    "#from xgboost import plot_importance\n",
    "from xgboost import XGBRegressor\n",
    "import warnings\n",
    "import gc\n",
    "import pickle\n",
    "from joblib import dump, load\n",
    "import typing as t\n",
    "import bentoml\n",
    "from sklearn.metrics import mean_absolute_percentage_error\n",
    "from sklearn.model_selection import KFold, cross_val_score,train_test_split\n",
    "#import wandb\n",
    "\n",
    "\n",
    "torch.manual_seed(42)\n",
    "\n",
    "\n",
    "path = Path('data/')\n",
    "\n",
    "train_df = pd.read_csv(path/'train.csv')\n",
    "test_df = pd.read_csv(path/'test.csv')\n",
    "sub_df = pd.read_csv(path/'sample_submission.csv')\n",
    "cont_names,cat_names = cont_cat_split(train_df, dep_var='sales')\n",
    "splits = RandomSplitter(valid_pct=0.2)(range_of(train_df))\n",
    "to = TabularPandas(train_df, procs=[Categorify, FillMissing,Normalize],\n",
    "#to = TabularPandas(train_df, procs=[Categorify,Normalize],\n",
    "                   cat_names = cat_names,\n",
    "                   cont_names = cont_names,\n",
    "                   y_names='sales',\n",
    "                   y_block=CategoryBlock(),\n",
    "                   splits=splits)\n",
    "dls = to.dataloaders(bs=64)\n",
    "#dls = to.dataloaders(bs=1024)\n",
    "test_dl = dls.test_dl(test_df)\n",
    "\n",
    "X_train, y_train = to.train.xs, to.train.ys.values.ravel()\n",
    "X_test, y_test = to.valid.xs, to.valid.ys.values.ravel()\n",
    "\n",
    "xgb_model = xgb.XGBRegressor()\n",
    "xgb_model = xgb_model.fit(X_train, y_train)\n",
    "\n",
    "#xgb_preds = tensor(xgb_model.predict(test_dl.xs))\n",
    "\n",
    "#xgb_preds_x = tensor(xgb_model.predict(X_test))\n",
    "\n",
    "#xgb_score = mean_absolute_percentage_error(y_test,xgb_preds_x)\n",
    "#print(f\"Model accuracy: {xgb_score}\")\n",
    "\n",
    "bentoml.xgboost.save_model(\"store_forecast_v1\", xgb_model)"
   ]
  }
 ],
 "metadata": {
  "kernelspec": {
   "display_name": "Python 3",
   "language": "python",
   "name": "python3"
  },
  "language_info": {
   "codemirror_mode": {
    "name": "ipython",
    "version": 3
   },
   "file_extension": ".py",
   "mimetype": "text/x-python",
   "name": "python",
   "nbconvert_exporter": "python",
   "pygments_lexer": "ipython3",
   "version": "3.10.12"
  }
 },
 "nbformat": 4,
 "nbformat_minor": 2
}
